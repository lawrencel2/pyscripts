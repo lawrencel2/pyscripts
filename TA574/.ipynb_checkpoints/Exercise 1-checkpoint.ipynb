{
 "cells": [
  {
   "cell_type": "markdown",
   "metadata": {},
   "source": [
    "# Simple ITK Day 1\n",
    "## MP- 574\n",
    "Author: Lawrence Lechuga\n",
    "\n",
    "In this notebook, we will be exploring Simple ITK and the image class. For some background: ITK, which is implemented in C++, is an open source framework used for image segmentation and registration. In addition, an automated wrapping process allows it to be implemented in Java and Python. \n",
    "\n",
    "Simple ITK is a \"simplified\" version of ITK that is implemented in many languages like C++, R, Python, etc. The primary purpose was intended to increase library accessibity irregardless of programming skillz.\n",
    "\n",
    "To start, let's explore how to images are loaded in and handled by simple ITK:\n",
    "\n",
    "### Exercise 1.0:\n",
    "***Action items:***\n",
    "1. Import SimpleITK class. The convention is to import as \"sitk\".\n",
    "2. Import other classes of importance (i.e. numpy, matplotlib.pyplot, skimage)\n"
   ]
  },
  {
   "cell_type": "code",
   "execution_count": 1,
   "metadata": {},
   "outputs": [],
   "source": [
    "%matplotlib inline\n",
    "import matplotlib.pyplot as plt\n",
    "import numpy as np\n",
    "import SimpleITK as sitk\n",
    "import skimage"
   ]
  },
  {
   "cell_type": "markdown",
   "metadata": {},
   "source": [
    "### Exercise 1.1:\n",
    "Simple ITK does not handle images as simple numpy nd-arrays. The are handled using the Image class within sitk, where pixels can be represented various enumerated types. Information on the enumerated types can be found at <a href=https://simpleitk.org/doxygen/latest/html/namespaceitk_1_1simple.html#ae40bd64640f4014fba1a8a872ab4df98>SimpleITK's webpage</a>. \n",
    "  \n",
    "***Action items:***\n",
    "1. Use the help( ) function to see the Image class documentation. i.e. input module.class into the help function. This is a very useful command for any new module that you plan to learn how to use. \n",
    "2. In the cell below, I have shown an example shown of how to create an image (initialized with pixels of zero). More specifically, I have initialized an image of size $256 \\times 128 \\times 64$ with a signed 16-bit integer pixel depth. Using this example create a 2D image, named \"img_2d\" of size $128 \\times 128$ with a 32-bit float pixel depth.\n",
    "3. Create an RGB image (Red-Green-Blue), named img_rgb of size $128 \\times 128$ using the sitk.VectorUint8 type."
   ]
  },
  {
   "cell_type": "code",
   "execution_count": 7,
   "metadata": {},
   "outputs": [],
   "source": [
    "#help(sitk.Image)\n",
    "image = sitk.Image(256,128,64, sitk.sitkInt16)\n",
    "# Insert your code below:\n",
    "img_2d = sitk.Image(128,128, sitk.sitkFloat32)\n",
    "img_rgb = sitk.Image([128,128],sitk.sitkVectorUInt8,3)\n"
   ]
  },
  {
   "cell_type": "markdown",
   "metadata": {},
   "source": [
    "### Exercise 1.2:\n",
    "Now lets practice some basics such as accessing pixel data and assigning values to pixels.\n",
    "  \n",
    "***Action Items:***\n",
    "1. Following the example, print out information on the size, origin, and number of components per pixel for img_2d and img_rgb. (For documentation help, refer to the help command and look under the methods for \"Get\" commands)\n",
    "2. I have shown how to print a pixel value using one method. Now, using the GetPixel and SetPixel method, print the (0,0) pixel value for the img_2d and then set it to the value 10.0\n",
    "3. I have set the 0,0 pixel to the value 10.0. This produces an error! Whats causing this and how to fix it?"
   ]
  },
  {
   "cell_type": "code",
   "execution_count": 33,
   "metadata": {},
   "outputs": [
    {
     "name": "stdout",
     "output_type": "stream",
     "text": [
      "Image dimensions:  3\n",
      "Image Width, Height, and Depth:  256 128 64\n",
      "The bit depth and type:  16-bit signed integer\n",
      "Img_2d size:  (128, 128)\n",
      "Img_rgb size:  (128, 128)\n",
      "Img_2d origin:  (0.0, 0.0)\n",
      "Img_rgb origin:  (0.0, 0.0)\n",
      "Img_2d pixel components:  1\n",
      "Img_rgb pixel components:  3\n",
      "Image pixel (0,0):  0\n",
      "After setting Image pixel (0,0) to 10:  10\n",
      "img_2d pixel value at (0,0):  10.0\n",
      "img_2d pixel value at (0,0):  10.0\n"
     ]
    }
   ],
   "source": [
    "print('Image dimensions: ',image.GetDimension())\n",
    "print('Image Width, Height, and Depth: ', image.GetWidth(),\n",
    "      image.GetHeight(), image.GetDepth()) # GetSize would be work here too\n",
    "print('The bit depth and type: ', image.GetPixelIDTypeAsString())\n",
    "\n",
    "# 1. Insert your code below:\n",
    "\n",
    "print('Img_2d size: ', img_2d.GetSize())\n",
    "print('Img_rgb size: ', img_rgb.GetSize())\n",
    "print('Img_2d origin: ', img_2d.GetOrigin())\n",
    "print('Img_rgb origin: ', img_rgb.GetOrigin())\n",
    "print('Img_2d pixel components: ', img_2d.GetNumberOfComponentsPerPixel())\n",
    "print('Img_rgb pixel components: ', img_rgb.GetNumberOfComponentsPerPixel())\n",
    "\n",
    "# printing and setting pixels:\n",
    "print('Image pixel (0,0): ', image[0,0,0])\n",
    "image[0,0,0] = 10\n",
    "print('After setting Image pixel (0,0) to 10: ', image[0,0,0])\n",
    "image[0,0,0] = 0\n",
    "\n",
    "# 2. Insert your code here:\n",
    "\n",
    "print('img_2d pixel value at (0,0): ', img_2d.GetPixel(0,0))\n",
    "img_2d.SetPixel(0,0,10)\n",
    "print('img_2d pixel value at (0,0): ', img_2d.GetPixel(0,0))\n",
    "\n",
    "# 3. Uncomment the lines and fix the error below:\n",
    "# printing and setting pixels:\n",
    "# print('Image pixel (0,0): ', image[0,0,0])\n",
    "# image[0,0,0] = 10.0\n",
    "# print('After setting Image pixel (0,0) to 10: ', image[0,0,0])"
   ]
  },
  {
   "cell_type": "markdown",
   "metadata": {},
   "source": [
    "### Exercise 1.3: \n",
    "Sometimes, we want to manipulate the image data in a more matrix-like way. We can actually convert the SimpleITK image into a numpy nd-array. \n",
    "  \n",
    "***Action Items:***\n",
    "1. Using SimpleITK's GetArrayFromImage(), convert your img_2d to an nd-array called nda\n",
    "2. Display the image in grayscale using matplotlib.pyplot's imshow() \n",
    "3. Create a function that will take a sitk image, create the nda, display, and return the image handle and array\n",
    "4. Display using the function"
   ]
  },
  {
   "cell_type": "code",
   "execution_count": 53,
   "metadata": {},
   "outputs": [
    {
     "data": {
      "image/png": "[encoded data removed]",
      "text/plain": [
       "<Figure size 432x288 with 1 Axes>"
      ]
     },
     "metadata": {
      "needs_background": "light"
     },
     "output_type": "display_data"
    },
    {
     "data": {
      "image/png": "[encoded data removed]",
      "text/plain": [
       "<Figure size 432x288 with 1 Axes>"
      ]
     },
     "metadata": {
      "needs_background": "light"
     },
     "output_type": "display_data"
    }
   ],
   "source": [
    "# 1. Insert code here:\n",
    "nda = sitk.GetArrayFromImage(img_2d)\n",
    "# 2. Insert code here: \n",
    "\n",
    "h = plt.imshow(nda,cmap='gray')\n",
    "plt.show()\n",
    "# 3. insert code below:\n",
    "def sitkshow(Img,title):\n",
    "    NDA = sitk.GetArrayFromImage(Img)\n",
    "    H = plt.imshow(NDA,cmap='gray')\n",
    "    plt.title(title,fontsize = 18)\n",
    "    plt.show()\n",
    "    return NDA, H\n",
    "# 4. insert code below:\n",
    "nda,h = sitkshow(img_2d,'image')"
   ]
  },
  {
   "cell_type": "markdown",
   "metadata": {},
   "source": [
    "### Exercise 1.4:\n",
    "Read in a DICOM image\n",
    "Display the meta information\n",
    "Display another image"
   ]
  },
  {
   "cell_type": "code",
   "execution_count": null,
   "metadata": {},
   "outputs": [],
   "source": []
  }
 ],
 "metadata": {
  "kernelspec": {
   "display_name": "Python 3",
   "language": "python",
   "name": "python3"
  },
  "language_info": {
   "codemirror_mode": {
    "name": "ipython",
    "version": 3
   },
   "file_extension": ".py",
   "mimetype": "text/x-python",
   "name": "python",
   "nbconvert_exporter": "python",
   "pygments_lexer": "ipython3",
   "version": "3.8.3"
  }
 },
 "nbformat": 4,
 "nbformat_minor": 4
}
